{
 "cells": [
  {
   "cell_type": "code",
   "execution_count": 1,
   "metadata": {},
   "outputs": [],
   "source": [
    "%matplotlib inline\n",
    "%reload_ext autoreload\n",
    "%autoreload 2"
   ]
  },
  {
   "cell_type": "markdown",
   "metadata": {},
   "source": [
    "### Intro to machine learning. Classification\n",
    "\n",
    "Good articles to read: \n",
    "\n",
    "[MachineLearningForBeginners](https://towardsdatascience.com/introduction-to-machine-learning-for-beginners-eed6024fdb08)\n",
    "\n",
    "[AnotherMLForBeginners](https://towardsdatascience.com/machine-learning-for-beginners-d247a9420dab)\n",
    "\n",
    "[GreatMachineLearningCource](https://www.coursera.org/learn/machine-learning)\n",
    "\n",
    "\n",
    "In general, \"machine learning is a field of study that gives the ability to the computer for self-learn without being explicitly programmed\" -  [Arthur Samuel](http://www.contrib.andrew.cmu.edu/~mndarwis/ML.html)\n",
    "\n",
    "Broadly speaking, machine learning can be divided into two classes: supervised and unsupervised learning. Within the field of machine learning, there are two main types of tasks: supervised, and unsupervised. The main difference between the two types is that supervised learning is done using a ground truth, or in other words, we have prior knowledge of what the output values for our samples should be. Therefore, the goal of supervised learning is to learn a function that, given a sample of data and desired outputs, best approximates the relationship between input and output observable in the data. Unsupervised learning, on the other hand, does not have labeled outputs, so its goal is to infer the natural structure present within a set of data points.Unsupervised learning tries to derive data patterns without explicitly specifying rules. \n",
    "\n",
    "In the following workshop we will be concentrating on supervised learning. One of the popular machine learning tasks is classification. Classification is an area of machine learning that gives computers the ability to automatically classify data. For example, some classification algorithms can recognize pictures and separate dogs from cats, another algorithm can detect spam vs not-spam from email content. In this exercise we will recognize hand written digits.\n"
   ]
  },
  {
   "cell_type": "markdown",
   "metadata": {},
   "source": [
    "In this notebook, you'll learn how to use scikit-learn to do machine learning classification on the MNIST database of handwritten digits. \n",
    "\n",
    "![title](../images/mnist-initial.png)\n",
    "\n",
    "\n",
    "The MNIST dataset is a well-known dataset consisting of 28x28 grayscale images. For each image, we know the corresponding digits (from 0 to 9). It is available here: http://yann.lecun.com/exdb/mnist/index.html\n",
    "While this tutorial uses a classifier called Logistic Regression, the coding process in this tutorial applies to other classifiers in sklearn (Decision Tree, K-Nearest Neighbors etc). In this noteboook, we use Logistic Regression to predict digit labels based on images. The image above shows a bunch of training digits (observations) from the MNIST dataset whose category membership is known (labels 0–9). After training a model with logistic regression, it can be used to predict an image label (labels 0–9) given an image. First lets load the data using mnist package"
   ]
  },
  {
   "cell_type": "markdown",
   "metadata": {},
   "source": [
    "### scikit-learn\n",
    "\n",
    "What is scikit-learn?\n",
    "\n",
    "Scikit-learn provides a range of supervised and unsupervised learning algorithms via a consistent interface in Python. The library is built upon the SciPy (Scientific Python) that must be installed before you can use scikit-learn. This stack that includes:\n",
    "\n",
    "NumPy: Base n-dimensional array package\n",
    "SciPy: Fundamental library for scientific computing\n",
    "Matplotlib: Comprehensive 2D/3D plotting\n",
    "IPython: Enhanced interactive console\n",
    "Sympy: Symbolic mathematics\n",
    "Pandas: Data structures and analysis\n",
    "Extensions or modules for SciPy care conventionally named SciKits. As such, the module provides learning algorithms and is named scikit-learn."
   ]
  },
  {
   "cell_type": "markdown",
   "metadata": {},
   "source": [
    "### Download mnist set"
   ]
  },
  {
   "cell_type": "code",
   "execution_count": 2,
   "metadata": {},
   "outputs": [
    {
     "name": "stdout",
     "output_type": "stream",
     "text": [
      "Requirement already satisfied: mnist in /home/ubuntu/anaconda3/envs/python3_rl/lib/python3.6/site-packages (0.2.2)\r\n",
      "Requirement already satisfied: numpy in /home/ubuntu/anaconda3/envs/python3_rl/lib/python3.6/site-packages (from mnist) (1.15.4)\r\n"
     ]
    }
   ],
   "source": [
    "!pip install mnist"
   ]
  },
  {
   "cell_type": "markdown",
   "metadata": {},
   "source": [
    "First, we import the tools we will need:\n",
    "\n",
    "Numpy: data manipulation\n",
    "\n",
    "SciPy: \n",
    "SciPy uses NumPy arrays as the basic data structure, and comes with modules for various commonly used tasks in scientific programming, including linear algebra, integration (calculus), ordinary differential equation solving, and signal processing.\n",
    "\n",
    "Pandas: data storage & manipulation\n",
    "\n",
    "SKLearn: Machine Learning framework\n",
    "\n",
    "Seaborn: Creating vizualizations"
   ]
  },
  {
   "cell_type": "code",
   "execution_count": 3,
   "metadata": {},
   "outputs": [],
   "source": [
    "\n",
    "import mnist\n",
    "import scipy.misc\n",
    "import numpy as np\n",
    "import matplotlib.pyplot as plt\n",
    "from sklearn import metrics\n",
    "\n",
    "import seaborn as sns\n"
   ]
  },
  {
   "cell_type": "markdown",
   "metadata": {},
   "source": [
    "### Explore data by splitting our data into train and test set"
   ]
  },
  {
   "cell_type": "code",
   "execution_count": 4,
   "metadata": {},
   "outputs": [],
   "source": [
    "\n",
    "# get the train data\n",
    "train_images = mnist.train_images()\n",
    "train_labels = mnist.train_labels()\n",
    "\n",
    "# get test data\n",
    "test_images = mnist.test_images()\n",
    "test_labels = mnist.test_labels()\n",
    "\n",
    "num_inputs = 28 * 28\n"
   ]
  },
  {
   "cell_type": "code",
   "execution_count": 5,
   "metadata": {},
   "outputs": [
    {
     "name": "stdout",
     "output_type": "stream",
     "text": [
      "train data shape (60000, 28, 28)\n",
      "train label shape (60000,)\n",
      "test data shape (10000, 28, 28)\n",
      "test label shape (10000,)\n"
     ]
    }
   ],
   "source": [
    "print('train data shape', train_images.shape)\n",
    "print('train label shape', train_labels.shape)\n",
    "\n",
    "print('test data shape', test_images.shape)\n",
    "print('test label shape', test_labels.shape)\n"
   ]
  },
  {
   "cell_type": "markdown",
   "metadata": {},
   "source": [
    "This proves in training we have 60000 images and each image is 28x28 dimension"
   ]
  },
  {
   "cell_type": "markdown",
   "metadata": {},
   "source": [
    "Now lets take a look at the training images"
   ]
  },
  {
   "cell_type": "code",
   "execution_count": 6,
   "metadata": {
    "scrolled": true
   },
   "outputs": [
    {
     "data": {
      "image/png": "[encoded data removed]",
      "text/plain": [
       "<Figure size 576x576 with 9 Axes>"
      ]
     },
     "metadata": {
      "needs_background": "light"
     },
     "output_type": "display_data"
    }
   ],
   "source": [
    "\n",
    "def print_digits(data_set, cols = 3, rows = 3):\n",
    "    fig=plt.figure(figsize=(8, 8))\n",
    "    for i in range(1, cols*rows +1):\n",
    "        img = data_set[i]\n",
    "        fig.add_subplot(rows, cols, i)\n",
    "        plt.imshow(img)\n",
    "    plt.show()\n",
    "    \n",
    "print_digits(train_images)\n",
    "\n"
   ]
  },
  {
   "cell_type": "code",
   "execution_count": 7,
   "metadata": {
    "scrolled": true
   },
   "outputs": [
    {
     "name": "stdout",
     "output_type": "stream",
     "text": [
      "[[  0   0   0   0   0   0   0   0   0   0   0   0   0   0   0   0   0   0\n",
      "    0   0   0   0   0   0   0   0   0   0]\n",
      " [  0   0   0   0   0   0   0   0   0   0   0   0   0   0   0   0   0   0\n",
      "    0   0   0   0   0   0   0   0   0   0]\n",
      " [  0   0   0   0   0   0   0   0   0   0   0   0   0   0   0   0   0   0\n",
      "    0   0   0   0   0   0   0   0   0   0]\n",
      " [  0   0   0   0   0   0   0   0   0   0   0   0   0   0   0   0   0   0\n",
      "    0   0   0   0   0   0   0   0   0   0]\n",
      " [  0   0   0   0   0   0   0   0   0   0   0   0   0   0   0   0   0   0\n",
      "    0   0   0   0   0   0   0   0   0   0]\n",
      " [  0   0   0   0   0   0   0   0   0   0   0   0   3  18  18  18 126 136\n",
      "  175  26 166 255 247 127   0   0   0   0]\n",
      " [  0   0   0   0   0   0   0   0  30  36  94 154 170 253 253 253 253 253\n",
      "  225 172 253 242 195  64   0   0   0   0]\n",
      " [  0   0   0   0   0   0   0  49 238 253 253 253 253 253 253 253 253 251\n",
      "   93  82  82  56  39   0   0   0   0   0]\n",
      " [  0   0   0   0   0   0   0  18 219 253 253 253 253 253 198 182 247 241\n",
      "    0   0   0   0   0   0   0   0   0   0]\n",
      " [  0   0   0   0   0   0   0   0  80 156 107 253 253 205  11   0  43 154\n",
      "    0   0   0   0   0   0   0   0   0   0]\n",
      " [  0   0   0   0   0   0   0   0   0  14   1 154 253  90   0   0   0   0\n",
      "    0   0   0   0   0   0   0   0   0   0]\n",
      " [  0   0   0   0   0   0   0   0   0   0   0 139 253 190   2   0   0   0\n",
      "    0   0   0   0   0   0   0   0   0   0]\n",
      " [  0   0   0   0   0   0   0   0   0   0   0  11 190 253  70   0   0   0\n",
      "    0   0   0   0   0   0   0   0   0   0]\n",
      " [  0   0   0   0   0   0   0   0   0   0   0   0  35 241 225 160 108   1\n",
      "    0   0   0   0   0   0   0   0   0   0]\n",
      " [  0   0   0   0   0   0   0   0   0   0   0   0   0  81 240 253 253 119\n",
      "   25   0   0   0   0   0   0   0   0   0]\n",
      " [  0   0   0   0   0   0   0   0   0   0   0   0   0   0  45 186 253 253\n",
      "  150  27   0   0   0   0   0   0   0   0]\n",
      " [  0   0   0   0   0   0   0   0   0   0   0   0   0   0   0  16  93 252\n",
      "  253 187   0   0   0   0   0   0   0   0]\n",
      " [  0   0   0   0   0   0   0   0   0   0   0   0   0   0   0   0   0 249\n",
      "  253 249  64   0   0   0   0   0   0   0]\n",
      " [  0   0   0   0   0   0   0   0   0   0   0   0   0   0  46 130 183 253\n",
      "  253 207   2   0   0   0   0   0   0   0]\n",
      " [  0   0   0   0   0   0   0   0   0   0   0   0  39 148 229 253 253 253\n",
      "  250 182   0   0   0   0   0   0   0   0]\n",
      " [  0   0   0   0   0   0   0   0   0   0  24 114 221 253 253 253 253 201\n",
      "   78   0   0   0   0   0   0   0   0   0]\n",
      " [  0   0   0   0   0   0   0   0  23  66 213 253 253 253 253 198  81   2\n",
      "    0   0   0   0   0   0   0   0   0   0]\n",
      " [  0   0   0   0   0   0  18 171 219 253 253 253 253 195  80   9   0   0\n",
      "    0   0   0   0   0   0   0   0   0   0]\n",
      " [  0   0   0   0  55 172 226 253 253 253 253 244 133  11   0   0   0   0\n",
      "    0   0   0   0   0   0   0   0   0   0]\n",
      " [  0   0   0   0 136 253 253 253 212 135 132  16   0   0   0   0   0   0\n",
      "    0   0   0   0   0   0   0   0   0   0]\n",
      " [  0   0   0   0   0   0   0   0   0   0   0   0   0   0   0   0   0   0\n",
      "    0   0   0   0   0   0   0   0   0   0]\n",
      " [  0   0   0   0   0   0   0   0   0   0   0   0   0   0   0   0   0   0\n",
      "    0   0   0   0   0   0   0   0   0   0]\n",
      " [  0   0   0   0   0   0   0   0   0   0   0   0   0   0   0   0   0   0\n",
      "    0   0   0   0   0   0   0   0   0   0]]\n"
     ]
    }
   ],
   "source": [
    "# look at the input format - You see a numerical represantion of the images of the handwritten digits\n",
    "\n",
    "print(train_images[0])"
   ]
  },
  {
   "cell_type": "markdown",
   "metadata": {},
   "source": [
    "### Preprocess data, normalization\n",
    "\n",
    "So we have 60000 train_images brought in as a shape (28,28,60000) matrix. It is a numpy.ndarray. You need to convert it to an array of 1 dimensional images, meaning each image is represented as a single line/array of numbers, and you want 60000 arrays. In other words, you want to go from (28, 28, 60000) to (60000, 28*28).\n",
    "\n",
    "Lets use the reshape method for that.\n",
    "\n"
   ]
  },
  {
   "cell_type": "code",
   "execution_count": 8,
   "metadata": {},
   "outputs": [],
   "source": [
    "\n",
    "x_train = train_images.reshape(-1,28*28)/255\n",
    "y_train = train_labels\n",
    "\n",
    "x_test = test_images.reshape(-1,28*28)/255\n",
    "y_test = test_labels\n",
    "\n"
   ]
  },
  {
   "cell_type": "code",
   "execution_count": 9,
   "metadata": {
    "scrolled": false
   },
   "outputs": [
    {
     "name": "stdout",
     "output_type": "stream",
     "text": [
      "length of the text examples 60000 60000\n",
      "length of the text examples 10000 10000\n"
     ]
    }
   ],
   "source": [
    "print('length of the text examples', len(x_train),len(y_train))\n",
    "print('length of the text examples', len(x_test),len(y_test))"
   ]
  },
  {
   "cell_type": "markdown",
   "metadata": {
    "scrolled": false
   },
   "source": [
    "### Building Logistic regression with sklearn\n",
    "\n",
    "Now that we have preprocessed the data, lets go ahead and run some computation on it.\n",
    "\n",
    "Step1 -> import the ML algorithm you want to use. In sklearn, all machine learning models are implemented as Python classes .Over here we are importing LogisticRegression"
   ]
  },
  {
   "cell_type": "code",
   "execution_count": 10,
   "metadata": {},
   "outputs": [],
   "source": [
    "from sklearn.linear_model import LogisticRegression\n",
    "from sklearn.model_selection import train_test_split\n",
    "from sklearn.preprocessing import StandardScaler\n",
    "from sklearn.utils import check_random_state\n",
    "from sklearn.linear_model import LogisticRegression\n",
    "\n"
   ]
  },
  {
   "cell_type": "markdown",
   "metadata": {},
   "source": [
    "The next line defines the logistic regression classifier. \n",
    "\n",
    "Step2 - > Since we have multiple outputs(10, for each digit), we need to use multi class classifier. Ove versus Rest is the simplest multilabel classifier. \n",
    "\n",
    "We use l2 regularizer, that penalizes loss function by ||W||^2. [MoreAboutThat](https://towardsdatascience.com/l1-and-l2-regularization-methods-ce25e7fc831c)\n",
    "\n",
    "We use the simple solver(liblinear). [MoreAboutSolver](https://scikit-learn.org/stable/modules/generated/sklearn.linear_model.LogisticRegression.html)\n"
   ]
  },
  {
   "cell_type": "code",
   "execution_count": 11,
   "metadata": {},
   "outputs": [],
   "source": [
    "# all parameters not specified are set to their defaults\n",
    "# default solver is incredibly slow thats why we change it\n",
    "\n",
    "# Turn up tolerance for faster convergence\n",
    "clf = LogisticRegression(multi_class='ovr', penalty='l2', solver='liblinear', tol=0.1, verbose = 1)\n"
   ]
  },
  {
   "cell_type": "markdown",
   "metadata": {},
   "source": [
    "Step 3. Training the model on the data, storing the information learned from the data\n",
    "\n",
    "Model is learning the relationship between digits and labels"
   ]
  },
  {
   "cell_type": "code",
   "execution_count": 12,
   "metadata": {},
   "outputs": [
    {
     "name": "stdout",
     "output_type": "stream",
     "text": [
      "[LibLinear]"
     ]
    },
    {
     "data": {
      "text/plain": [
       "LogisticRegression(C=1.0, class_weight=None, dual=False, fit_intercept=True,\n",
       "          intercept_scaling=1, max_iter=100, multi_class='ovr',\n",
       "          n_jobs=None, penalty='l2', random_state=None, solver='liblinear',\n",
       "          tol=0.1, verbose=1, warm_start=False)"
      ]
     },
     "execution_count": 12,
     "metadata": {},
     "output_type": "execute_result"
    }
   ],
   "source": [
    "\n",
    "clf.fit(x_train, y_train)\n"
   ]
  },
  {
   "cell_type": "markdown",
   "metadata": {},
   "source": [
    "Lets now talk about regularazation. Regularization can be considered as a penalty against complexity. Increasing the regularization strength penalizes \"large\" weight coefficients -- our goal is to prevent that our model picks up \"peculiarities,\" \"noise,\" or \"imagines a pattern where there is none.\"\n",
    "\n",
    "Again, we don't want the model to memorize the training dataset, we want a model that generalizes well to new, unseen data."
   ]
  },
  {
   "cell_type": "code",
   "execution_count": 13,
   "metadata": {},
   "outputs": [
    {
     "name": "stdout",
     "output_type": "stream",
     "text": [
      "Sparsity with L2 penalty: 8.55%\n",
      "Test score with L2 penalty: 0.9105\n"
     ]
    }
   ],
   "source": [
    "sparsity = np.mean(clf.coef_ == 0) * 100\n",
    "score = clf.score(x_test, y_test)\n",
    "\n",
    "print(\"Sparsity with L2 penalty: %.2f%%\" % sparsity)\n",
    "print(\"Test score with L2 penalty: %.4f\" % score)\n"
   ]
  },
  {
   "cell_type": "code",
   "execution_count": 14,
   "metadata": {
    "scrolled": true
   },
   "outputs": [
    {
     "name": "stdout",
     "output_type": "stream",
     "text": [
      "[[ 960    0    0    1    0    3    9    2    5    0]\n",
      " [   0 1104    2    2    1    2    4    2   18    0]\n",
      " [  10   12  910   15   11    2   14   17   36    5]\n",
      " [   3    1   21  919    1   20    4   10   22    9]\n",
      " [   1    7    6    1  902    1    9    1   10   44]\n",
      " [  15    3    3   39   12  747   20   11   28   14]\n",
      " [   8    3    4    2   11   12  912    2    4    0]\n",
      " [   4   15   22    4    9    2    1  937    1   33]\n",
      " [   9   17    7   15   14   34   13   13  844    8]\n",
      " [  10    9    4   13   49    8    0   32   14  870]]\n"
     ]
    }
   ],
   "source": [
    "\n",
    "predictions = clf.predict(x_test)\n",
    "\n",
    "cm = metrics.confusion_matrix(y_test, predictions)\n",
    "\n",
    "print(cm)\n"
   ]
  },
  {
   "cell_type": "code",
   "execution_count": 15,
   "metadata": {
    "scrolled": true
   },
   "outputs": [
    {
     "data": {
      "image/png": "[encoded data removed]",
      "text/plain": [
       "<Figure size 648x648 with 2 Axes>"
      ]
     },
     "metadata": {
      "needs_background": "light"
     },
     "output_type": "display_data"
    }
   ],
   "source": [
    "\n",
    "def plot_confusion_matrix(cmatrix, score):\n",
    "    plt.figure(figsize=(9,9))\n",
    "    sns.heatmap(cmatrix, annot=True, fmt=\".3f\", linewidths=.5, square = True, cmap = 'Blues_r')\n",
    "    plt.ylabel('True label')\n",
    "    plt.xlabel('Predicted label')\n",
    "    plt.title('Accuracy Score: {0}'.format(score), size = 15)\n",
    "    \n",
    "def evaluate_confusion_matrix(y_test, predictions):\n",
    "    return metrics.confusion_matrix(y_test, predictions)\n",
    "\n",
    "def evaluate_and_plot_confusion_matrix(y_test, predictions, score):\n",
    "    plot_confusion_matrix(evaluate_confusion_matrix(y_test, predictions), score)\n",
    "\n",
    "    \n",
    "evaluate_and_plot_confusion_matrix(y_test, predictions, score)\n",
    "\n"
   ]
  },
  {
   "cell_type": "markdown",
   "metadata": {},
   "source": [
    "Lest print some misclassified digits"
   ]
  },
  {
   "cell_type": "code",
   "execution_count": 16,
   "metadata": {},
   "outputs": [
    {
     "data": {
      "image/png": "[encoded data removed]",
      "text/plain": [
       "<Figure size 1440x1440 with 16 Axes>"
      ]
     },
     "metadata": {
      "needs_background": "light"
     },
     "output_type": "display_data"
    }
   ],
   "source": [
    "\n",
    "import numpy as np \n",
    "from random import sample\n",
    "import matplotlib.pyplot as plt\n",
    "\n",
    "def calculate_miclassified(x_test, y_test, clf):\n",
    "    misclassified_inds = []\n",
    "    predictions = clf.predict(x_test)\n",
    "    for index, (label, predict) in enumerate(zip(y_test, predictions)):\n",
    "        if label != predict: \n",
    "            misclassified_inds.append(index)\n",
    "    return misclassified_inds\n",
    "\n",
    "def plot_random_samples(x_test, y_test, predictions, misclassified_inds, cols = 4, rows = 4):\n",
    "    num_images = cols * rows\n",
    "    random_indexes = sample(misclassified_inds, num_images)\n",
    "    fig=plt.figure(figsize=(20, 20))\n",
    "    for i in range(1, cols*rows +1):\n",
    "        img_index = random_indexes[i-1]\n",
    "        img = np.reshape(x_test[img_index], (28,28))\n",
    "        fig.add_subplot(rows, cols, i)\n",
    "        plt.imshow(img, cmap=plt.cm.gray)\n",
    "        plt.title('Predicted: {}, Actual: {}'.format(predictions[img_index], y_test[img_index]), fontsize = 15)\n",
    "    plt.show()\n",
    "    \n",
    "misclassified_inds = calculate_miclassified(x_test, y_test, clf)\n",
    "    \n",
    "plot_random_samples(x_test, y_test, predictions, misclassified_inds)"
   ]
  },
  {
   "cell_type": "markdown",
   "metadata": {},
   "source": [
    "### Conclusions\n",
    "\n",
    "So far we build our classifier, that can predict recognize hand written digits with ~88% accuracy. This is pretty good for starters, but it is just the beginning. Top hand written digit classifiers have accuracy almost 100% ! \n",
    "\n",
    "\n",
    "If you want to improve your classifier, you can follow this blogpost: https://towardsdatascience.com/a-simple-2d-cnn-for-mnist-digit-recognition-a998dbc1e79a"
   ]
  },
  {
   "cell_type": "markdown",
   "metadata": {},
   "source": [
    "### Implementing Logistic classification from scratch\n",
    "\n",
    "The following section contains a simple implementation of the classifier built from scratch. \n",
    "\n",
    "Note: this is an advanced topic and you can skip if you are not interested in the underpinnings of the algorithm\n",
    "\n",
    "Algorithm\n",
    "Given a set of inputs X, we want to assign them to one of two possible categories (0 or 1). Logistic regression models the probability that each input belongs to a particular category.\n",
    "\n",
    "Hypothesis\n",
    "A function takes inputs and returns outputs. To generate probabilities, logistic regression uses a function that gives outputs between 0 and 1 for all values of X. There are many functions that meet this description, but the one used in this case is the logistic function. From here we will refer to it as softmax.\n",
    "n.\n",
    "\n"
   ]
  },
  {
   "cell_type": "markdown",
   "metadata": {},
   "source": [
    "### Softmax\n",
    "\n",
    "Softmax function calculates the probabilities distribution of the event over ‘n’ different events. This function will calculate the probabilities of each target class over all possible target classes. Later the calculated probabilities will be helpful for determining the target class for the given inputs. The output probabilities range will be between 0 to 1, and the sum of all the probabilities will be equal to one. If the softmax function is used for multi-classification model it returns the probabilities of each class and the target class will have the high probability.\n",
    "\n",
    "The formula computes the exponential (e-power) of the given input value and the sum of exponential values of all the values in the inputs. Then the ratio of the exponential of the input value and the sum of exponential values is the output of the softmax function"
   ]
  },
  {
   "cell_type": "code",
   "execution_count": 17,
   "metadata": {},
   "outputs": [],
   "source": [
    "\n",
    "def softmax(z):\n",
    "    \"\"\"\n",
    "    The softmax function\n",
    "    Arguments:\n",
    "    z -- a k-length vector (float)\n",
    "    Return:\n",
    "    result -- the softmax function evaluated on z, returning a set of probability  of length k\n",
    "    \"\"\"\n",
    "    result = 1/sum(np.exp(z)) * np.exp(z)\n",
    "    return result\n",
    "\n"
   ]
  },
  {
   "cell_type": "markdown",
   "metadata": {},
   "source": [
    "### One Hot encoding\n",
    "\n",
    "One hot encoding is a representation of categorical variables as binary vectors. This first requires that the actual values be mapped to integer values. Then each integer value is represented as a binary vector that is all zero values except the index of the integer which is marked with a 1."
   ]
  },
  {
   "cell_type": "code",
   "execution_count": 18,
   "metadata": {},
   "outputs": [],
   "source": [
    "\n",
    "def one_hot_encode(y):\n",
    "    \"\"\"\n",
    "    One hot encodings\n",
    "    Arguments:\n",
    "    y -- number between 0 and 9 that represents the digit\n",
    "    Return:\n",
    "    result -- 10 digit array, where all values but one is zero.\n",
    "    \"\"\"\n",
    "    vector = np.array([0]*10)\n",
    "    vector[y] = 1\n",
    "    return vector\n"
   ]
  },
  {
   "cell_type": "markdown",
   "metadata": {},
   "source": [
    "### Gradient Descent\n",
    "\n",
    "It is an optimization algorithm to find the minimum of a function. We start with a random point on the function and move in the negative direction of the gradient of the function to reach the local/global minima.\n",
    "\n"
   ]
  },
  {
   "cell_type": "code",
   "execution_count": 19,
   "metadata": {},
   "outputs": [],
   "source": [
    "\n",
    "def gradient(w, x, y):\n",
    "    \"\"\"\n",
    "    The gradient \n",
    "    Arguments:\n",
    "    w -- weights, an ndarray of size (num_outputs, num_inputs)\n",
    "    x -- graphic data, a numpy array of size (num_inputs) -- the MNIST data representing pixels\n",
    "    y -- true \"label\" corresponding to x (float)\n",
    "    Return:\n",
    "    (-1)*grad -- negative gradient of the loss with respect to w, thus same shape as w\n",
    "    \"\"\"\n",
    "    \n",
    "    y_encoded = one_hot_encode(y)\n",
    "    z = np.matmul(w, x)\n",
    "    A = (y_encoded - softmax(z))\n",
    "    grad = np.zeros(w.shape)\n",
    "    \n",
    "    for i in range(0,len(x)):\n",
    "        grad[:,i] = x[i]*A\n",
    "        \n",
    "    return (-1) * grad\n"
   ]
  },
  {
   "cell_type": "markdown",
   "metadata": {},
   "source": [
    "### Weight Initialization"
   ]
  },
  {
   "cell_type": "code",
   "execution_count": 20,
   "metadata": {},
   "outputs": [],
   "source": [
    "\n",
    "def initialize(num_outputs,num_inputs):\n",
    "    \"\"\"\n",
    "    Initializing random weights w\n",
    "    \n",
    "    Return: \n",
    "    w -- weights, an ndarray of size (num_outputs, num_inputs)\n",
    "    \"\"\"\n",
    "    return np.random.randn(num_outputs,num_inputs) / np.sqrt(num_inputs)\n",
    "\n"
   ]
  },
  {
   "cell_type": "markdown",
   "metadata": {},
   "source": [
    "In machine learning, we can use a technique that evaluates and updates the coefficients every iteration called stochastic gradient descent to minimize the error of a model on our training data.\n",
    "\n",
    "The way this optimization algorithm works is that each training instance is shown to the model one at a time. The model makes a prediction for a training instance, the error is calculated and the model is updated in order to reduce the error for the next prediction.\n",
    "\n",
    "This procedure can be used to find the set of coefficients in a model that result in the smallest error for the model on the training data."
   ]
  },
  {
   "cell_type": "code",
   "execution_count": 177,
   "metadata": {},
   "outputs": [],
   "source": [
    "\n",
    "def train(X_train, Y_train, num_iterations = 1000, learning_rate = 0.5):\n",
    "    \"\"\"\n",
    "    The stochastic gradient descent model \n",
    "    Arguments:\n",
    "    X_train -- x_train data set, a 2darray of float in shape (num_training_data, num_inputs)\n",
    "    Y_train -- y_train data set, a vector of float in shape (num_training_data,)\n",
    "    num_iterations -- number of iterations to have\n",
    "    learning_rate -- size of base learning rate\n",
    "    Return:\n",
    "    w -- the weights after optimization, an 2darray of size (num_outputs, num_inputs)\n",
    "    \"\"\"\n",
    "    # initialize the random weights\n",
    "    w = initialize(num_outputs,num_inputs)\n",
    "    \n",
    "    # generate a random list of indices for the training set\n",
    "    train_size = len(X_train)\n",
    "    rand_indices = np.random.choice(train_size, num_iterations, replace=True)\n",
    "\n",
    "    for i in rand_indices:\n",
    "        w = w - gradient(w,X_train[i],Y_train[i]) * learning_rate\n",
    "    return w \n",
    "\n"
   ]
  },
  {
   "cell_type": "markdown",
   "metadata": {},
   "source": [
    "### Predict"
   ]
  },
  {
   "cell_type": "code",
   "execution_count": null,
   "metadata": {},
   "outputs": [],
   "source": [
    "\n",
    "def predict (w, x):\n",
    "    \"\"\"\n",
    "    Predict y based on fitted weights and x\n",
    "    Arguments:\n",
    "    w -- the weights after optimization, an 2darray of size (num_outputs, num_inputs)\n",
    "    x -- graphic data for testing, a numpy array of size (num_inputs) -- the MNIST data representing pixels\n",
    "    Return:\n",
    "    result -- predicted \"label\" corresponding to x (float)\n",
    "    \"\"\"\n",
    "    dist = softmax(np.matmul(w, x))\n",
    "    result = np.argmax(dist)\n",
    "    return result\n"
   ]
  },
  {
   "cell_type": "markdown",
   "metadata": {},
   "source": [
    "### Test"
   ]
  },
  {
   "cell_type": "code",
   "execution_count": 243,
   "metadata": {},
   "outputs": [],
   "source": [
    "\n",
    "def testing(w, X_test, Y_test):\n",
    "    \"\"\"\n",
    "    Test the model \n",
    "    Arguments:\n",
    "    w -- the weights after optimization, an 2darray of size (num_outputs, num_inputs)\n",
    "    X_test -- x_test data set, a 2darray of float in shape (num_testing_data, num_inputs)\n",
    "    Y_test -- y_test data set, a vector of float in shape (num_testing_data,)\n",
    "    \"\"\"\n",
    "    total_correct = 0\n",
    "    for n in range(len(X_test)):\n",
    "        y = Y_test[n]\n",
    "        x = X_test[n][:]\n",
    "        prediction = predict (w , x)\n",
    "        if (prediction == y):\n",
    "            total_correct += 1\n",
    "    # print('Accuarcy Test: ',total_correct/np.float(len(X_test)))\n",
    "    return total_correct/np.float(len(X_test))\n"
   ]
  },
  {
   "cell_type": "markdown",
   "metadata": {},
   "source": [
    "### Running logistic regression"
   ]
  },
  {
   "cell_type": "code",
   "execution_count": 244,
   "metadata": {
    "scrolled": true
   },
   "outputs": [
    {
     "name": "stdout",
     "output_type": "stream",
     "text": [
      "Model # (8000, 0.03)\n",
      "Number of iterations = 8000\n",
      "Learning Rate = 0.03\n",
      "Accuarcy Test:  0.8811\n",
      "################################\n"
     ]
    }
   ],
   "source": [
    "\n",
    "#Implementation of stochastic gradient descent algorithm\n",
    "#number of inputs\n",
    "num_inputs = 28*28\n",
    "#number of outputs\n",
    "num_outputs = 10\n",
    "\n",
    "lr = 0.03\n",
    "num_iter = 8000\n",
    "\n",
    "w = train(x_train, y_train, num_iterations = num_iter, learning_rate = lr)\n",
    "print('Model #', (num_iter,lr))\n",
    "print('Number of iterations =',num_iter)\n",
    "print('Learning Rate =',lr)\n",
    "print('Accuarcy Test: ',testing(w,x_test,y_test))\n",
    "print('################################')\n",
    "\n",
    "        "
   ]
  },
  {
   "cell_type": "markdown",
   "metadata": {},
   "source": [
    "### Mnist classification using mini-batch approach(slow)"
   ]
  },
  {
   "cell_type": "markdown",
   "metadata": {},
   "source": [
    "### One hot encoding(vector version)"
   ]
  },
  {
   "cell_type": "code",
   "execution_count": null,
   "metadata": {},
   "outputs": [],
   "source": [
    "\n",
    "def one_hot_encode_vect(Y):\n",
    "    vector = np.zeros((len(Y), 10))\n",
    "    for i in range(0, len(Y)):\n",
    "        vector[i][Y[i]] = 1\n",
    "    return vector\n",
    "\n",
    "\n",
    "one_hot_encode_vect([9,4])\n"
   ]
  },
  {
   "cell_type": "markdown",
   "metadata": {},
   "source": [
    "### Gradient - mini batch version"
   ]
  },
  {
   "cell_type": "code",
   "execution_count": 253,
   "metadata": {},
   "outputs": [],
   "source": [
    "\n",
    "def gradient_minibatch(W, X, Y):\n",
    "    \"\"\"\n",
    "    The gradient \n",
    "    Arguments:\n",
    "    w -- (num_outputs, num_inputs) weights, an ndarray of size (num_outputs, num_inputs)\n",
    "    x -- (mini_batch,  num_inputs) graphic data, a numpy array of size (num_inputs) -- the MNIST data representing pixels\n",
    "    y -- (mini_batch) true \"label\" corresponding to x (float)\n",
    "    Return:\n",
    "    (-1)*grad -- (num_outputs, num_inputs) negative gradient of the loss with respect to w, thus same shape as w\n",
    "    \"\"\"\n",
    "    \n",
    "    Y_encoded = one_hot_encode_vect(Y)\n",
    "    Z = np.matmul(W, X.T)\n",
    "    A = (Y_encoded.T - softmax(Z))\n",
    "    grad = np.matmul(A,X)/mini_batch\n",
    "    return (-1) * grad\n"
   ]
  },
  {
   "cell_type": "code",
   "execution_count": 252,
   "metadata": {},
   "outputs": [
    {
     "name": "stdout",
     "output_type": "stream",
     "text": [
      "(10, 4)\n"
     ]
    },
    {
     "data": {
      "text/plain": [
       "array([[-0., -0., -0.],\n",
       "       [-0., -0., -0.],\n",
       "       [-0., -0., -0.],\n",
       "       [-0., -0., -0.],\n",
       "       [-0., -0., -0.],\n",
       "       [-0., -0., -0.],\n",
       "       [-0., -0., -0.],\n",
       "       [-0., -0., -0.],\n",
       "       [-0., -0., -0.],\n",
       "       [-0., -0., -0.]])"
      ]
     },
     "execution_count": 252,
     "metadata": {},
     "output_type": "execute_result"
    }
   ],
   "source": [
    "\n",
    "w_t = initialize(10,3)\n",
    "x_t = np.zeros((4,3))\n",
    "y_t =[1,2,3,4]\n",
    "\n",
    "\n",
    "gradient_minibatch(w_t,x_t,y_t)"
   ]
  },
  {
   "cell_type": "markdown",
   "metadata": {},
   "source": [
    "### Train loop - mini batch version"
   ]
  },
  {
   "cell_type": "code",
   "execution_count": 246,
   "metadata": {},
   "outputs": [],
   "source": [
    "\n",
    "def train_mini_batch(X_train, Y_train, num_iterations = 1000, learning_rate = 0.5, mini_batch = 64):\n",
    "    \"\"\"\n",
    "    The stochastic gradient descent model \n",
    "    Arguments:\n",
    "    X_train -- x_train data set, a 2darray of float in shape (num_training_data, num_inputs)\n",
    "    Y_train -- y_train data set, a vector of float in shape (num_training_data,)\n",
    "    num_iterations -- number of iterations to have\n",
    "    learning_rate -- size of base learning rate\n",
    "    Return:\n",
    "    w -- the weights after optimization, an 2darray of size (num_outputs, num_inputs)\n",
    "    \"\"\"\n",
    "    # initialize the random weights\n",
    "    w = initialize(num_outputs,num_inputs)\n",
    "    \n",
    "    # generate a random list of indices for the training set\n",
    "    train_size = len(X_train)\n",
    "    \n",
    "    num_batches = int(len(X_train)/mini_batch)\n",
    "    \n",
    "    print('Executing total batches:', num_batches)\n",
    "    \n",
    "    for idx in range(num_iterations):\n",
    "        for num_batch in range(num_batches):\n",
    "            X_train_batch = X_train[num_batch:(num_batch+1)*mini_batch]\n",
    "            Y_train_batch = Y_train[num_batch:(num_batch+1)*mini_batch]\n",
    "            grad = gradient_minibatch(w,X_train_batch,Y_train_batch)\n",
    "            w = w - grad * learning_rate\n",
    "        print('Finished iteration: ',idx)\n",
    "    return w \n",
    "\n"
   ]
  },
  {
   "cell_type": "code",
   "execution_count": null,
   "metadata": {},
   "outputs": [
    {
     "name": "stdout",
     "output_type": "stream",
     "text": [
      "Executing total batches: 937\n"
     ]
    },
    {
     "name": "stderr",
     "output_type": "stream",
     "text": [
      "/home/ec2-user/anaconda3/envs/pytorch_p36/lib/python3.6/site-packages/ipykernel/__main__.py:11: RuntimeWarning: invalid value encountered in multiply\n"
     ]
    },
    {
     "name": "stdout",
     "output_type": "stream",
     "text": [
      "Finished iteration:  0\n"
     ]
    }
   ],
   "source": [
    "\n",
    "#Implementation of stochastic gradient descent algorithm\n",
    "#number of inputs\n",
    "num_inputs = 28*28\n",
    "#number of outputs\n",
    "num_outputs = 10\n",
    "\n",
    "lr = 0.03\n",
    "num_iter = 3\n",
    "\n",
    "w = train_mini_batch(x_train, y_train, num_iterations = num_iter, learning_rate = lr)\n",
    "print('Model #', (num_iter,lr))\n",
    "print('Accuarcy on Test: ',testing(w, x_test, y_test))\n",
    "        \n"
   ]
  },
  {
   "cell_type": "code",
   "execution_count": null,
   "metadata": {},
   "outputs": [],
   "source": []
  }
 ],
 "metadata": {
  "kernelspec": {
   "display_name": "Environment (conda_pytorch_p36)",
   "language": "python",
   "name": "conda_pytorch_p36"
  },
  "language_info": {
   "codemirror_mode": {
    "name": "ipython",
    "version": 3
   },
   "file_extension": ".py",
   "mimetype": "text/x-python",
   "name": "python",
   "nbconvert_exporter": "python",
   "pygments_lexer": "ipython3",
   "version": "3.6.3"
  }
 },
 "nbformat": 4,
 "nbformat_minor": 2
}
